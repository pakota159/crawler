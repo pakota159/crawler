{
 "metadata": {
  "language_info": {
   "codemirror_mode": {
    "name": "ipython",
    "version": 3
   },
   "file_extension": ".py",
   "mimetype": "text/x-python",
   "name": "python",
   "nbconvert_exporter": "python",
   "pygments_lexer": "ipython3",
   "version": "3.8.5"
  },
  "orig_nbformat": 2,
  "kernelspec": {
   "name": "python3",
   "display_name": "Python 3.8.5 64-bit ('base': conda)",
   "metadata": {
    "interpreter": {
     "hash": "899d250d17ab5a2db63df69ed055139ccd9703cdafa92ce56149587018a7026c"
    }
   }
  }
 },
 "nbformat": 4,
 "nbformat_minor": 2,
 "cells": [
  {
   "cell_type": "code",
   "execution_count": 2,
   "metadata": {},
   "outputs": [],
   "source": [
    "import pandas as pd"
   ]
  },
  {
   "cell_type": "code",
   "execution_count": 3,
   "metadata": {},
   "outputs": [],
   "source": [
    "raw = pd.read_csv('raw_data.csv')"
   ]
  },
  {
   "cell_type": "code",
   "execution_count": 4,
   "metadata": {},
   "outputs": [
    {
     "output_type": "execute_result",
     "data": {
      "text/plain": [
       "                                               title  \\\n",
       "0  Top 8 Data Science Use Cases in Manufacturing ...   \n",
       "1  Top 8 Data Science Use Cases in Manufacturing ...   \n",
       "2  Top 8 Data Science Use Cases in Manufacturing ...   \n",
       "3  Top 8 Data Science Use Cases in Manufacturing ...   \n",
       "4  Top 8 Data Science Use Cases in Manufacturing ...   \n",
       "\n",
       "                                           paragraph  \n",
       "0  The manufacturing business faces huge transfor...  \n",
       "1  The amount of data to be stored and processed ...  \n",
       "2  Predictive analytics is the analysis of presen...  \n",
       "3  Both these prediction models are aimed at fore...  \n",
       "4  Preventive maintenance is usually applied to t...  "
      ],
      "text/html": "<div>\n<style scoped>\n    .dataframe tbody tr th:only-of-type {\n        vertical-align: middle;\n    }\n\n    .dataframe tbody tr th {\n        vertical-align: top;\n    }\n\n    .dataframe thead th {\n        text-align: right;\n    }\n</style>\n<table border=\"1\" class=\"dataframe\">\n  <thead>\n    <tr style=\"text-align: right;\">\n      <th></th>\n      <th>title</th>\n      <th>paragraph</th>\n    </tr>\n  </thead>\n  <tbody>\n    <tr>\n      <th>0</th>\n      <td>Top 8 Data Science Use Cases in Manufacturing ...</td>\n      <td>The manufacturing business faces huge transfor...</td>\n    </tr>\n    <tr>\n      <th>1</th>\n      <td>Top 8 Data Science Use Cases in Manufacturing ...</td>\n      <td>The amount of data to be stored and processed ...</td>\n    </tr>\n    <tr>\n      <th>2</th>\n      <td>Top 8 Data Science Use Cases in Manufacturing ...</td>\n      <td>Predictive analytics is the analysis of presen...</td>\n    </tr>\n    <tr>\n      <th>3</th>\n      <td>Top 8 Data Science Use Cases in Manufacturing ...</td>\n      <td>Both these prediction models are aimed at fore...</td>\n    </tr>\n    <tr>\n      <th>4</th>\n      <td>Top 8 Data Science Use Cases in Manufacturing ...</td>\n      <td>Preventive maintenance is usually applied to t...</td>\n    </tr>\n  </tbody>\n</table>\n</div>"
     },
     "metadata": {},
     "execution_count": 4
    }
   ],
   "source": [
    "raw.head()"
   ]
  },
  {
   "cell_type": "code",
   "execution_count": 13,
   "metadata": {},
   "outputs": [
    {
     "output_type": "execute_result",
     "data": {
      "text/plain": [
       "array(['Top 8 Data Science Use Cases in Manufacturing - KDnuggets',\n",
       "       'My Best Tips for Agile Data Science Research - KDnuggets',\n",
       "       'How to Capture Data to Make Business Impact - KDnuggets',\n",
       "       'How To Work In Data Science, AI, Big Data - KDnuggets',\n",
       "       'Top R Packages for Data Cleaning - KDnuggets',\n",
       "       'The Pareto Principle for Data Scientists - KDnuggets',\n",
       "       'Another 10 Free Must-Read Books for Machine Learning and Data Science - KDnuggets',\n",
       "       'What no one will tell you about data science job applications - KDnuggets',\n",
       "       'Data Science for Decision Makers: A Discussion with Dr Stelios Kampakis - KDnuggets',\n",
       "       'Top 7 Data Science Use Cases in Travel - KDnuggets',\n",
       "       'Asking Great Questions as a Data Scientist - KDnuggets',\n",
       "       'Python Data Science for Beginners - KDnuggets'], dtype=object)"
      ]
     },
     "metadata": {},
     "execution_count": 13
    }
   ],
   "source": [
    "# Get first column\n",
    "raw['title']\n",
    "raw['title'].head(100).unique()"
   ]
  },
  {
   "cell_type": "code",
   "execution_count": 14,
   "metadata": {},
   "outputs": [
    {
     "output_type": "execute_result",
     "data": {
      "text/plain": [
       "786"
      ]
     },
     "metadata": {},
     "execution_count": 14
    }
   ],
   "source": [
    "# and count how many different blogs\n",
    "len(raw['title'].unique())"
   ]
  },
  {
   "cell_type": "code",
   "execution_count": 15,
   "metadata": {},
   "outputs": [
    {
     "output_type": "execute_result",
     "data": {
      "text/plain": [
       "0       The manufacturing business faces huge transfor...\n",
       "1       The amount of data to be stored and processed ...\n",
       "2       Predictive analytics is the analysis of presen...\n",
       "3       Both these prediction models are aimed at fore...\n",
       "4       Preventive maintenance is usually applied to t...\n",
       "                              ...                        \n",
       "5395    More than 70% of data science project’s effort...\n",
       "5396    I only visited 3 garages in my example, but yo...\n",
       "5397    Thinking again of my car problem, perhaps I ha...\n",
       "5398    A combiner algorithm is then trained to make u...\n",
       "5399    An easy mistake for data science newcomers to ...\n",
       "Name: paragraph, Length: 5400, dtype: object"
      ]
     },
     "metadata": {},
     "execution_count": 15
    }
   ],
   "source": [
    "# Get second colum\n",
    "raw['paragraph']"
   ]
  },
  {
   "cell_type": "code",
   "execution_count": null,
   "metadata": {},
   "outputs": [],
   "source": []
  }
 ]
}