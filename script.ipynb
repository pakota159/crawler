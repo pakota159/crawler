{
 "metadata": {
  "language_info": {
   "codemirror_mode": {
    "name": "ipython",
    "version": 3
   },
   "file_extension": ".py",
   "mimetype": "text/x-python",
   "name": "python",
   "nbconvert_exporter": "python",
   "pygments_lexer": "ipython3",
   "version": "3.8.5"
  },
  "orig_nbformat": 2,
  "kernelspec": {
   "name": "python385jvsc74a57bd0adae5644c8e5140f4f8199f329d906ee698786d3e5c3be5f05bac1d0f6451bba",
   "display_name": "Python 3.8.5 64-bit ('base': conda)"
  },
  "metadata": {
   "interpreter": {
    "hash": "adae5644c8e5140f4f8199f329d906ee698786d3e5c3be5f05bac1d0f6451bba"
   }
  }
 },
 "nbformat": 4,
 "nbformat_minor": 2,
 "cells": [
  {
   "cell_type": "code",
   "execution_count": 16,
   "metadata": {},
   "outputs": [],
   "source": [
    "import pandas as pd\n",
    "import re"
   ]
  },
  {
   "cell_type": "code",
   "execution_count": 70,
   "metadata": {},
   "outputs": [],
   "source": [
    "raw = pd.read_csv('raw_data.csv')\n",
    "simple_words = pd.read_csv('simple_words.csv')"
   ]
  },
  {
   "cell_type": "code",
   "execution_count": 71,
   "metadata": {},
   "outputs": [
    {
     "output_type": "execute_result",
     "data": {
      "text/plain": [
       "           word        count\n",
       "0           THE  23135851162\n",
       "1            OF  13151942776\n",
       "2           AND  12997637966\n",
       "3            TO  12136980858\n",
       "4             A   9081174698\n",
       "...         ...          ...\n",
       "2995       SEXO     25849932\n",
       "2996         AP     25843002\n",
       "2997   PATTERNS     25809816\n",
       "2998      BOXES     25787744\n",
       "2999  LOUISIANA     25779604\n",
       "\n",
       "[2999 rows x 2 columns]"
      ],
      "text/html": "<div>\n<style scoped>\n    .dataframe tbody tr th:only-of-type {\n        vertical-align: middle;\n    }\n\n    .dataframe tbody tr th {\n        vertical-align: top;\n    }\n\n    .dataframe thead th {\n        text-align: right;\n    }\n</style>\n<table border=\"1\" class=\"dataframe\">\n  <thead>\n    <tr style=\"text-align: right;\">\n      <th></th>\n      <th>word</th>\n      <th>count</th>\n    </tr>\n  </thead>\n  <tbody>\n    <tr>\n      <th>0</th>\n      <td>THE</td>\n      <td>23135851162</td>\n    </tr>\n    <tr>\n      <th>1</th>\n      <td>OF</td>\n      <td>13151942776</td>\n    </tr>\n    <tr>\n      <th>2</th>\n      <td>AND</td>\n      <td>12997637966</td>\n    </tr>\n    <tr>\n      <th>3</th>\n      <td>TO</td>\n      <td>12136980858</td>\n    </tr>\n    <tr>\n      <th>4</th>\n      <td>A</td>\n      <td>9081174698</td>\n    </tr>\n    <tr>\n      <th>...</th>\n      <td>...</td>\n      <td>...</td>\n    </tr>\n    <tr>\n      <th>2995</th>\n      <td>SEXO</td>\n      <td>25849932</td>\n    </tr>\n    <tr>\n      <th>2996</th>\n      <td>AP</td>\n      <td>25843002</td>\n    </tr>\n    <tr>\n      <th>2997</th>\n      <td>PATTERNS</td>\n      <td>25809816</td>\n    </tr>\n    <tr>\n      <th>2998</th>\n      <td>BOXES</td>\n      <td>25787744</td>\n    </tr>\n    <tr>\n      <th>2999</th>\n      <td>LOUISIANA</td>\n      <td>25779604</td>\n    </tr>\n  </tbody>\n</table>\n<p>2999 rows × 2 columns</p>\n</div>"
     },
     "metadata": {},
     "execution_count": 71
    }
   ],
   "source": [
    "simple_words = simple_words.head(3000)\n",
    "simple_words.dropna(inplace = True)\n",
    "simple_words[\"word\"] = simple_words[\"word\"].apply(lambda x: x.upper())\n",
    "simple_words"
   ]
  },
  {
   "cell_type": "code",
   "execution_count": 72,
   "metadata": {},
   "outputs": [
    {
     "output_type": "execute_result",
     "data": {
      "text/plain": [
       "0             THE\n",
       "1              OF\n",
       "2             AND\n",
       "3              TO\n",
       "4               A\n",
       "          ...    \n",
       "2995         SEXO\n",
       "2996           AP\n",
       "2997     PATTERNS\n",
       "2998        BOXES\n",
       "2999    LOUISIANA\n",
       "Name: word, Length: 2999, dtype: object"
      ]
     },
     "metadata": {},
     "execution_count": 72
    }
   ],
   "source": [
    "simple_words[\"word\"]"
   ]
  },
  {
   "cell_type": "code",
   "execution_count": 12,
   "metadata": {},
   "outputs": [
    {
     "output_type": "execute_result",
     "data": {
      "text/plain": [
       "'The manufacturing business faces huge transformations nowadays. Due to rapid development of digital world and broad application of data science, various fields of human activity seek improvement. Modern manufacturing is often referred to as industry 4.0 that is the manufacturing under conditions of the fourth industrial revolution that has brought robotization, automation and broad application of data'"
      ]
     },
     "metadata": {},
     "execution_count": 12
    }
   ],
   "source": [
    "string = raw[\"paragraph\"].head(1)[0]\n",
    "string"
   ]
  },
  {
   "cell_type": "code",
   "execution_count": 22,
   "metadata": {},
   "outputs": [
    {
     "output_type": "stream",
     "name": "stdout",
     "text": [
      "The\nmanufacturing\nbusiness\nfaces\nhuge\ntransformations\nnowadays.\nDue\nto\nrapid\ndevelopment\nof\ndigital\nworld\nand\nbroad\napplication\nof\ndata\nscience,\nvarious\nfields\nof\nhuman\nactivity\nseek\nimprovement.\nModern\nmanufacturing\nis\noften\nreferred\nto\nas\nindustry\n4.0\nthat\nis\nthe\nmanufacturing\nunder\nconditions\nof\nthe\nfourth\nindustrial\nrevolution\nthat\nhas\nbrought\nrobotization,\nautomation\nand\nbroad\napplication\nof\ndata\n"
     ]
    }
   ],
   "source": [
    "# loop the string\n",
    "arr = string.split(\" \")\n",
    "\n",
    "for s in arr:\n",
    "    print(s)"
   ]
  },
  {
   "cell_type": "code",
   "execution_count": 78,
   "metadata": {},
   "outputs": [
    {
     "output_type": "stream",
     "name": "stdout",
     "text": [
      "faces\ntransformations\nnowadays.\nrapid\nbroad\nscience,\nseek\nimprovement.\n4.0\nfourth\nrevolution\nrobotization,\nautomation\nbroad\n"
     ]
    }
   ],
   "source": [
    "for s in arr:\n",
    "    if s.upper() not in simple_words[\"word\"].values:\n",
    "        print(s)"
   ]
  },
  {
   "cell_type": "code",
   "execution_count": null,
   "metadata": {},
   "outputs": [],
   "source": []
  }
 ]
}