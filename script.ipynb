{
 "metadata": {
  "language_info": {
   "codemirror_mode": {
    "name": "ipython",
    "version": 3
   },
   "file_extension": ".py",
   "mimetype": "text/x-python",
   "name": "python",
   "nbconvert_exporter": "python",
   "pygments_lexer": "ipython3",
   "version": "3.8.5"
  },
  "orig_nbformat": 2,
  "kernelspec": {
   "name": "python385jvsc74a57bd0adae5644c8e5140f4f8199f329d906ee698786d3e5c3be5f05bac1d0f6451bba",
   "display_name": "Python 3.8.5 64-bit ('base': conda)"
  },
  "metadata": {
   "interpreter": {
    "hash": "adae5644c8e5140f4f8199f329d906ee698786d3e5c3be5f05bac1d0f6451bba"
   }
  }
 },
 "nbformat": 4,
 "nbformat_minor": 2,
 "cells": [
  {
   "cell_type": "code",
   "execution_count": 1,
   "metadata": {},
   "outputs": [],
   "source": [
    "import pandas as pd\n",
    "import numpy as np\n",
    "import re"
   ]
  },
  {
   "cell_type": "code",
   "execution_count": 2,
   "metadata": {},
   "outputs": [],
   "source": [
    "# Prepare all raw data\n",
    "raw = pd.read_csv('raw_data.csv')\n",
    "simple_words = pd.read_csv('simple_words.csv')"
   ]
  },
  {
   "cell_type": "code",
   "execution_count": 3,
   "metadata": {},
   "outputs": [
    {
     "output_type": "execute_result",
     "data": {
      "text/plain": [
       "           word        count      word_s      word_ed\n",
       "0           THE  23135851162        THES         THED\n",
       "1            OF  13151942776         OFS         OFED\n",
       "2           AND  12997637966        ANDS        ANDED\n",
       "3            TO  12136980858         TOS         TOED\n",
       "4             A   9081174698          AS          AED\n",
       "...         ...          ...         ...          ...\n",
       "2995       SEXO     25849932       SEXOS       SEXOED\n",
       "2996         AP     25843002         APS         APED\n",
       "2997   PATTERNS     25809816   PATTERNSS   PATTERNSED\n",
       "2998      BOXES     25787744      BOXESS      BOXESED\n",
       "2999  LOUISIANA     25779604  LOUISIANAS  LOUISIANAED\n",
       "\n",
       "[2999 rows x 4 columns]"
      ],
      "text/html": "<div>\n<style scoped>\n    .dataframe tbody tr th:only-of-type {\n        vertical-align: middle;\n    }\n\n    .dataframe tbody tr th {\n        vertical-align: top;\n    }\n\n    .dataframe thead th {\n        text-align: right;\n    }\n</style>\n<table border=\"1\" class=\"dataframe\">\n  <thead>\n    <tr style=\"text-align: right;\">\n      <th></th>\n      <th>word</th>\n      <th>count</th>\n      <th>word_s</th>\n      <th>word_ed</th>\n    </tr>\n  </thead>\n  <tbody>\n    <tr>\n      <th>0</th>\n      <td>THE</td>\n      <td>23135851162</td>\n      <td>THES</td>\n      <td>THED</td>\n    </tr>\n    <tr>\n      <th>1</th>\n      <td>OF</td>\n      <td>13151942776</td>\n      <td>OFS</td>\n      <td>OFED</td>\n    </tr>\n    <tr>\n      <th>2</th>\n      <td>AND</td>\n      <td>12997637966</td>\n      <td>ANDS</td>\n      <td>ANDED</td>\n    </tr>\n    <tr>\n      <th>3</th>\n      <td>TO</td>\n      <td>12136980858</td>\n      <td>TOS</td>\n      <td>TOED</td>\n    </tr>\n    <tr>\n      <th>4</th>\n      <td>A</td>\n      <td>9081174698</td>\n      <td>AS</td>\n      <td>AED</td>\n    </tr>\n    <tr>\n      <th>...</th>\n      <td>...</td>\n      <td>...</td>\n      <td>...</td>\n      <td>...</td>\n    </tr>\n    <tr>\n      <th>2995</th>\n      <td>SEXO</td>\n      <td>25849932</td>\n      <td>SEXOS</td>\n      <td>SEXOED</td>\n    </tr>\n    <tr>\n      <th>2996</th>\n      <td>AP</td>\n      <td>25843002</td>\n      <td>APS</td>\n      <td>APED</td>\n    </tr>\n    <tr>\n      <th>2997</th>\n      <td>PATTERNS</td>\n      <td>25809816</td>\n      <td>PATTERNSS</td>\n      <td>PATTERNSED</td>\n    </tr>\n    <tr>\n      <th>2998</th>\n      <td>BOXES</td>\n      <td>25787744</td>\n      <td>BOXESS</td>\n      <td>BOXESED</td>\n    </tr>\n    <tr>\n      <th>2999</th>\n      <td>LOUISIANA</td>\n      <td>25779604</td>\n      <td>LOUISIANAS</td>\n      <td>LOUISIANAED</td>\n    </tr>\n  </tbody>\n</table>\n<p>2999 rows × 4 columns</p>\n</div>"
     },
     "metadata": {},
     "execution_count": 3
    }
   ],
   "source": [
    "# Prepare dataframe of simple words for filter later\n",
    "simple_words = simple_words.head(3000)\n",
    "simple_words.dropna(inplace = True)\n",
    "simple_words[\"word\"] = simple_words[\"word\"].apply(lambda x: x.upper())\n",
    "simple_words[\"word_s\"] = simple_words[\"word\"].apply(lambda x: x.upper() + \"S\")\n",
    "simple_words[\"word_ed\"] = simple_words[\"word\"].apply(lambda x: x.upper() + \"D\" if x[-1].upper() == \"E\" else x.upper() + \"ED\")\n",
    "simple_words"
   ]
  },
  {
   "cell_type": "code",
   "execution_count": 4,
   "metadata": {},
   "outputs": [
    {
     "output_type": "execute_result",
     "data": {
      "text/plain": [
       "                                               title  \\\n",
       "0  Top 8 Data Science Use Cases in Manufacturing ...   \n",
       "1  Top 8 Data Science Use Cases in Manufacturing ...   \n",
       "2  Top 8 Data Science Use Cases in Manufacturing ...   \n",
       "\n",
       "                                           paragraph  \n",
       "0  The manufacturing business faces huge transfor...  \n",
       "1  The amount of data to be stored and processed ...  \n",
       "2  Predictive analytics is the analysis of presen...  "
      ],
      "text/html": "<div>\n<style scoped>\n    .dataframe tbody tr th:only-of-type {\n        vertical-align: middle;\n    }\n\n    .dataframe tbody tr th {\n        vertical-align: top;\n    }\n\n    .dataframe thead th {\n        text-align: right;\n    }\n</style>\n<table border=\"1\" class=\"dataframe\">\n  <thead>\n    <tr style=\"text-align: right;\">\n      <th></th>\n      <th>title</th>\n      <th>paragraph</th>\n    </tr>\n  </thead>\n  <tbody>\n    <tr>\n      <th>0</th>\n      <td>Top 8 Data Science Use Cases in Manufacturing ...</td>\n      <td>The manufacturing business faces huge transfor...</td>\n    </tr>\n    <tr>\n      <th>1</th>\n      <td>Top 8 Data Science Use Cases in Manufacturing ...</td>\n      <td>The amount of data to be stored and processed ...</td>\n    </tr>\n    <tr>\n      <th>2</th>\n      <td>Top 8 Data Science Use Cases in Manufacturing ...</td>\n      <td>Predictive analytics is the analysis of presen...</td>\n    </tr>\n  </tbody>\n</table>\n</div>"
     },
     "metadata": {},
     "execution_count": 4
    }
   ],
   "source": [
    "raw.head(3)"
   ]
  },
  {
   "cell_type": "code",
   "execution_count": 5,
   "metadata": {},
   "outputs": [
    {
     "output_type": "execute_result",
     "data": {
      "text/plain": [
       "'Both these prediction models are aimed at forecasting the moment when the equipment fails to perform the task. As a result, the secondary goal may be achieved \\xa0- to prevent these failures from happening or at least to reduce their number. This becomes possible due to the numerous predictive techniques'"
      ]
     },
     "metadata": {},
     "execution_count": 5
    }
   ],
   "source": [
    "raw[\"paragraph\"].iloc[3]"
   ]
  },
  {
   "cell_type": "code",
   "execution_count": 6,
   "metadata": {},
   "outputs": [],
   "source": [
    "# function that filter word with length > 3 and not in simple words\n",
    "def filter_word(w):\n",
    "    if len(w) > 3 and w.upper() not in simple_words[\"word\"].values and w.upper() not in simple_words[\"word_s\"].values and w.upper() not in simple_words[\"word_ed\"].values:\n",
    "        return True\n",
    "    return False"
   ]
  },
  {
   "cell_type": "code",
   "execution_count": 7,
   "metadata": {},
   "outputs": [],
   "source": [
    "# function to clean paragraph\n",
    "def clean_paragraph(para):\n",
    "    # loop the string\n",
    "    arr = re.split('[\\W+\\d+]', para)\n",
    "    # transform each word in arr above: filter to get words with length > 3 then uppercase all words\n",
    "    new_arr = list(map(lambda y: y.upper(), (filter(filter_word, arr))))\n",
    "    # remove duplicate words\n",
    "    new_arr = list(dict.fromkeys(new_arr))\n",
    "    return new_arr"
   ]
  },
  {
   "cell_type": "code",
   "execution_count": 8,
   "metadata": {},
   "outputs": [],
   "source": [
    "raw[\"paragraph_arr\"] = raw[\"paragraph\"].apply(clean_paragraph)"
   ]
  },
  {
   "cell_type": "code",
   "execution_count": 9,
   "metadata": {},
   "outputs": [
    {
     "output_type": "execute_result",
     "data": {
      "text/plain": [
       "                                                  title  \\\n",
       "0     Top 8 Data Science Use Cases in Manufacturing ...   \n",
       "1     Top 8 Data Science Use Cases in Manufacturing ...   \n",
       "2     Top 8 Data Science Use Cases in Manufacturing ...   \n",
       "3     Top 8 Data Science Use Cases in Manufacturing ...   \n",
       "4     Top 8 Data Science Use Cases in Manufacturing ...   \n",
       "...                                                 ...   \n",
       "5395  Practical Data Science: Building Minimum Viabl...   \n",
       "5396  Data Science Basics: An Introduction to Ensemb...   \n",
       "5397  Data Science Basics: An Introduction to Ensemb...   \n",
       "5398  Data Science Basics: An Introduction to Ensemb...   \n",
       "5399  Data Science Basics: An Introduction to Ensemb...   \n",
       "\n",
       "                                          paragraph_arr  \n",
       "0     [TRANSFORMATIONS, NOWADAYS, RAPID, BROAD, SEEK...  \n",
       "1                                 [AUTOMATE, EXECUTION]  \n",
       "2     [PREDICTIVE, ANALYTICS, PROBLEMATIC, DEEPLY, F...  \n",
       "3     [PREDICTION, FORECASTING, HAPPENING, NUMEROUS,...  \n",
       "4     [PREVENTIVE, LESSEN, LIKELIHOOD, FAILING, USAG...  \n",
       "...                                                 ...  \n",
       "5395  [CONSIST, JUNK, MODELING, EXPERIMENTING, COMMU...  \n",
       "5396  [GARAGES, IMAGINE, HUNDREDS, BAGGING, BAGGED, ...  \n",
       "5397  [GARAGE, NUMEROUS, DIAGNOSIS, SUPPOSE, INTERAC...  \n",
       "5398  [COMBINER, ALGORITHM, PREDICTIONS, ALGORITHMS,...  \n",
       "5399  [MISTAKE, NEWCOMERS, UNDERESTIMATE, COMPLEXITY...  \n",
       "\n",
       "[5400 rows x 2 columns]"
      ],
      "text/html": "<div>\n<style scoped>\n    .dataframe tbody tr th:only-of-type {\n        vertical-align: middle;\n    }\n\n    .dataframe tbody tr th {\n        vertical-align: top;\n    }\n\n    .dataframe thead th {\n        text-align: right;\n    }\n</style>\n<table border=\"1\" class=\"dataframe\">\n  <thead>\n    <tr style=\"text-align: right;\">\n      <th></th>\n      <th>title</th>\n      <th>paragraph_arr</th>\n    </tr>\n  </thead>\n  <tbody>\n    <tr>\n      <th>0</th>\n      <td>Top 8 Data Science Use Cases in Manufacturing ...</td>\n      <td>[TRANSFORMATIONS, NOWADAYS, RAPID, BROAD, SEEK...</td>\n    </tr>\n    <tr>\n      <th>1</th>\n      <td>Top 8 Data Science Use Cases in Manufacturing ...</td>\n      <td>[AUTOMATE, EXECUTION]</td>\n    </tr>\n    <tr>\n      <th>2</th>\n      <td>Top 8 Data Science Use Cases in Manufacturing ...</td>\n      <td>[PREDICTIVE, ANALYTICS, PROBLEMATIC, DEEPLY, F...</td>\n    </tr>\n    <tr>\n      <th>3</th>\n      <td>Top 8 Data Science Use Cases in Manufacturing ...</td>\n      <td>[PREDICTION, FORECASTING, HAPPENING, NUMEROUS,...</td>\n    </tr>\n    <tr>\n      <th>4</th>\n      <td>Top 8 Data Science Use Cases in Manufacturing ...</td>\n      <td>[PREVENTIVE, LESSEN, LIKELIHOOD, FAILING, USAG...</td>\n    </tr>\n    <tr>\n      <th>...</th>\n      <td>...</td>\n      <td>...</td>\n    </tr>\n    <tr>\n      <th>5395</th>\n      <td>Practical Data Science: Building Minimum Viabl...</td>\n      <td>[CONSIST, JUNK, MODELING, EXPERIMENTING, COMMU...</td>\n    </tr>\n    <tr>\n      <th>5396</th>\n      <td>Data Science Basics: An Introduction to Ensemb...</td>\n      <td>[GARAGES, IMAGINE, HUNDREDS, BAGGING, BAGGED, ...</td>\n    </tr>\n    <tr>\n      <th>5397</th>\n      <td>Data Science Basics: An Introduction to Ensemb...</td>\n      <td>[GARAGE, NUMEROUS, DIAGNOSIS, SUPPOSE, INTERAC...</td>\n    </tr>\n    <tr>\n      <th>5398</th>\n      <td>Data Science Basics: An Introduction to Ensemb...</td>\n      <td>[COMBINER, ALGORITHM, PREDICTIONS, ALGORITHMS,...</td>\n    </tr>\n    <tr>\n      <th>5399</th>\n      <td>Data Science Basics: An Introduction to Ensemb...</td>\n      <td>[MISTAKE, NEWCOMERS, UNDERESTIMATE, COMPLEXITY...</td>\n    </tr>\n  </tbody>\n</table>\n<p>5400 rows × 2 columns</p>\n</div>"
     },
     "metadata": {},
     "execution_count": 9
    }
   ],
   "source": [
    "raw = raw.drop(columns=['paragraph'])\n",
    "raw"
   ]
  },
  {
   "cell_type": "code",
   "execution_count": 10,
   "metadata": {},
   "outputs": [
    {
     "output_type": "execute_result",
     "data": {
      "text/plain": [
       "                                                   title    paragraph_arr\n",
       "0      Top 8 Data Science Use Cases in Manufacturing ...  TRANSFORMATIONS\n",
       "1      Top 8 Data Science Use Cases in Manufacturing ...         NOWADAYS\n",
       "2      Top 8 Data Science Use Cases in Manufacturing ...            RAPID\n",
       "3      Top 8 Data Science Use Cases in Manufacturing ...            BROAD\n",
       "4      Top 8 Data Science Use Cases in Manufacturing ...             SEEK\n",
       "...                                                  ...              ...\n",
       "45971  Data Science Basics: An Introduction to Ensemb...       ACCOMPLISH\n",
       "45972  Data Science Basics: An Introduction to Ensemb...           TACKLE\n",
       "45973  Data Science Basics: An Introduction to Ensemb...         SOLVABLE\n",
       "45974  Data Science Basics: An Introduction to Ensemb...       ARTIFICIAL\n",
       "45975  Data Science Basics: An Introduction to Ensemb...     CONVERSATION\n",
       "\n",
       "[45976 rows x 2 columns]"
      ],
      "text/html": "<div>\n<style scoped>\n    .dataframe tbody tr th:only-of-type {\n        vertical-align: middle;\n    }\n\n    .dataframe tbody tr th {\n        vertical-align: top;\n    }\n\n    .dataframe thead th {\n        text-align: right;\n    }\n</style>\n<table border=\"1\" class=\"dataframe\">\n  <thead>\n    <tr style=\"text-align: right;\">\n      <th></th>\n      <th>title</th>\n      <th>paragraph_arr</th>\n    </tr>\n  </thead>\n  <tbody>\n    <tr>\n      <th>0</th>\n      <td>Top 8 Data Science Use Cases in Manufacturing ...</td>\n      <td>TRANSFORMATIONS</td>\n    </tr>\n    <tr>\n      <th>1</th>\n      <td>Top 8 Data Science Use Cases in Manufacturing ...</td>\n      <td>NOWADAYS</td>\n    </tr>\n    <tr>\n      <th>2</th>\n      <td>Top 8 Data Science Use Cases in Manufacturing ...</td>\n      <td>RAPID</td>\n    </tr>\n    <tr>\n      <th>3</th>\n      <td>Top 8 Data Science Use Cases in Manufacturing ...</td>\n      <td>BROAD</td>\n    </tr>\n    <tr>\n      <th>4</th>\n      <td>Top 8 Data Science Use Cases in Manufacturing ...</td>\n      <td>SEEK</td>\n    </tr>\n    <tr>\n      <th>...</th>\n      <td>...</td>\n      <td>...</td>\n    </tr>\n    <tr>\n      <th>45971</th>\n      <td>Data Science Basics: An Introduction to Ensemb...</td>\n      <td>ACCOMPLISH</td>\n    </tr>\n    <tr>\n      <th>45972</th>\n      <td>Data Science Basics: An Introduction to Ensemb...</td>\n      <td>TACKLE</td>\n    </tr>\n    <tr>\n      <th>45973</th>\n      <td>Data Science Basics: An Introduction to Ensemb...</td>\n      <td>SOLVABLE</td>\n    </tr>\n    <tr>\n      <th>45974</th>\n      <td>Data Science Basics: An Introduction to Ensemb...</td>\n      <td>ARTIFICIAL</td>\n    </tr>\n    <tr>\n      <th>45975</th>\n      <td>Data Science Basics: An Introduction to Ensemb...</td>\n      <td>CONVERSATION</td>\n    </tr>\n  </tbody>\n</table>\n<p>45976 rows × 2 columns</p>\n</div>"
     },
     "metadata": {},
     "execution_count": 10
    }
   ],
   "source": [
    "lst_col = 'paragraph_arr'\n",
    "raw = pd.DataFrame({\n",
    "    col:np.repeat(raw[col].values, raw[lst_col].str.len())\n",
    "    for col in raw.columns.difference([lst_col])\n",
    "}).assign(**{lst_col:np.concatenate(raw[lst_col].values)})[raw.columns.tolist()]\n",
    "raw"
   ]
  },
  {
   "cell_type": "code",
   "execution_count": 11,
   "metadata": {},
   "outputs": [],
   "source": [
    "raw['freq'] = 1"
   ]
  },
  {
   "cell_type": "code",
   "execution_count": 14,
   "metadata": {},
   "outputs": [],
   "source": [
    "final = raw.groupby('paragraph_arr').agg({\n",
    "    'freq': 'sum',\n",
    "    'title': \"nunique\",\n",
    "}).sort_values(by=['title'], ascending=False).head(50)"
   ]
  },
  {
   "cell_type": "code",
   "execution_count": 16,
   "metadata": {},
   "outputs": [],
   "source": [
    "final[\"rank\"] = final[\"freq\"] * final[\"title\"]"
   ]
  },
  {
   "cell_type": "code",
   "execution_count": 18,
   "metadata": {},
   "outputs": [
    {
     "output_type": "execute_result",
     "data": {
      "text/plain": [
       "                freq  title    rank\n",
       "paragraph_arr                      \n",
       "SCIENTISTS       491    271  133061\n",
       "SCIENTIST        430    235  101050\n",
       "ANALYTICS        268    171   45828\n",
       "PYTHON           286    163   46618\n",
       "ALGORITHMS       220    158   34760\n",
       "INSIGHTS         163    125   20375\n",
       "SOLVE            156    118   18408\n",
       "ALGORITHM        140     99   13860\n",
       "DATASET          170     95   16150\n",
       "DOESN            121     95   11495\n",
       "STATISTICAL      123     91   11193\n",
       "PREDICTIVE       134     88   11792\n",
       "PREDICT          110     78    8580\n",
       "EXPERTISE         82     78    6396\n",
       "VISUALIZATION     98     73    7154\n",
       "MODELING         105     72    7560\n",
       "CANNOT            79     70    5530\n",
       "DATASETS          98     69    6762\n",
       "PREDICTIONS       96     68    6528\n",
       "ENGINEERS         96     67    6432\n",
       "ANALYZE           76     66    5016\n",
       "PREDICTION        93     65    6045\n",
       "NEURAL            87     65    5655\n",
       "LINEAR            90     63    5670\n",
       "SKILL             68     62    4216\n",
       "DRIVEN            73     61    4453\n",
       "METRICS           82     61    5002\n",
       "PROBABILITY       89     60    5340\n",
       "APPLYING          70     60    4200\n",
       "ENGINEER          73     59    4307\n",
       "CLASSIFICATION    74     57    4218\n",
       "MATHEMATICS       76     57    4332\n",
       "VALUABLE          61     56    3416\n",
       "SPARK             76     55    4180\n",
       "EXTREMELY         61     55    3355\n",
       "IMPLEMENT         62     54    3348\n",
       "ANALYSTS          69     54    3726\n",
       "CLOUD             76     54    4104\n",
       "INSIGHT           56     54    3024\n",
       "REGRESSION        76     53    4028\n",
       "EFFICIENT         65     53    3445\n",
       "ARTIFICIAL        57     52    2964\n",
       "MATHEMATICAL      62     51    3162\n",
       "EXPLAIN           54     50    2700\n",
       "APPROACHES        53     50    2650\n",
       "TYPICALLY         66     50    3300\n",
       "IMAGINE           54     48    2592\n",
       "GENERATE          58     48    2784\n",
       "AUTOMATED         59     47    2773\n",
       "PIPELINE          61     46    2806"
      ],
      "text/html": "<div>\n<style scoped>\n    .dataframe tbody tr th:only-of-type {\n        vertical-align: middle;\n    }\n\n    .dataframe tbody tr th {\n        vertical-align: top;\n    }\n\n    .dataframe thead th {\n        text-align: right;\n    }\n</style>\n<table border=\"1\" class=\"dataframe\">\n  <thead>\n    <tr style=\"text-align: right;\">\n      <th></th>\n      <th>freq</th>\n      <th>title</th>\n      <th>rank</th>\n    </tr>\n    <tr>\n      <th>paragraph_arr</th>\n      <th></th>\n      <th></th>\n      <th></th>\n    </tr>\n  </thead>\n  <tbody>\n    <tr>\n      <th>SCIENTISTS</th>\n      <td>491</td>\n      <td>271</td>\n      <td>133061</td>\n    </tr>\n    <tr>\n      <th>SCIENTIST</th>\n      <td>430</td>\n      <td>235</td>\n      <td>101050</td>\n    </tr>\n    <tr>\n      <th>ANALYTICS</th>\n      <td>268</td>\n      <td>171</td>\n      <td>45828</td>\n    </tr>\n    <tr>\n      <th>PYTHON</th>\n      <td>286</td>\n      <td>163</td>\n      <td>46618</td>\n    </tr>\n    <tr>\n      <th>ALGORITHMS</th>\n      <td>220</td>\n      <td>158</td>\n      <td>34760</td>\n    </tr>\n    <tr>\n      <th>INSIGHTS</th>\n      <td>163</td>\n      <td>125</td>\n      <td>20375</td>\n    </tr>\n    <tr>\n      <th>SOLVE</th>\n      <td>156</td>\n      <td>118</td>\n      <td>18408</td>\n    </tr>\n    <tr>\n      <th>ALGORITHM</th>\n      <td>140</td>\n      <td>99</td>\n      <td>13860</td>\n    </tr>\n    <tr>\n      <th>DATASET</th>\n      <td>170</td>\n      <td>95</td>\n      <td>16150</td>\n    </tr>\n    <tr>\n      <th>DOESN</th>\n      <td>121</td>\n      <td>95</td>\n      <td>11495</td>\n    </tr>\n    <tr>\n      <th>STATISTICAL</th>\n      <td>123</td>\n      <td>91</td>\n      <td>11193</td>\n    </tr>\n    <tr>\n      <th>PREDICTIVE</th>\n      <td>134</td>\n      <td>88</td>\n      <td>11792</td>\n    </tr>\n    <tr>\n      <th>PREDICT</th>\n      <td>110</td>\n      <td>78</td>\n      <td>8580</td>\n    </tr>\n    <tr>\n      <th>EXPERTISE</th>\n      <td>82</td>\n      <td>78</td>\n      <td>6396</td>\n    </tr>\n    <tr>\n      <th>VISUALIZATION</th>\n      <td>98</td>\n      <td>73</td>\n      <td>7154</td>\n    </tr>\n    <tr>\n      <th>MODELING</th>\n      <td>105</td>\n      <td>72</td>\n      <td>7560</td>\n    </tr>\n    <tr>\n      <th>CANNOT</th>\n      <td>79</td>\n      <td>70</td>\n      <td>5530</td>\n    </tr>\n    <tr>\n      <th>DATASETS</th>\n      <td>98</td>\n      <td>69</td>\n      <td>6762</td>\n    </tr>\n    <tr>\n      <th>PREDICTIONS</th>\n      <td>96</td>\n      <td>68</td>\n      <td>6528</td>\n    </tr>\n    <tr>\n      <th>ENGINEERS</th>\n      <td>96</td>\n      <td>67</td>\n      <td>6432</td>\n    </tr>\n    <tr>\n      <th>ANALYZE</th>\n      <td>76</td>\n      <td>66</td>\n      <td>5016</td>\n    </tr>\n    <tr>\n      <th>PREDICTION</th>\n      <td>93</td>\n      <td>65</td>\n      <td>6045</td>\n    </tr>\n    <tr>\n      <th>NEURAL</th>\n      <td>87</td>\n      <td>65</td>\n      <td>5655</td>\n    </tr>\n    <tr>\n      <th>LINEAR</th>\n      <td>90</td>\n      <td>63</td>\n      <td>5670</td>\n    </tr>\n    <tr>\n      <th>SKILL</th>\n      <td>68</td>\n      <td>62</td>\n      <td>4216</td>\n    </tr>\n    <tr>\n      <th>DRIVEN</th>\n      <td>73</td>\n      <td>61</td>\n      <td>4453</td>\n    </tr>\n    <tr>\n      <th>METRICS</th>\n      <td>82</td>\n      <td>61</td>\n      <td>5002</td>\n    </tr>\n    <tr>\n      <th>PROBABILITY</th>\n      <td>89</td>\n      <td>60</td>\n      <td>5340</td>\n    </tr>\n    <tr>\n      <th>APPLYING</th>\n      <td>70</td>\n      <td>60</td>\n      <td>4200</td>\n    </tr>\n    <tr>\n      <th>ENGINEER</th>\n      <td>73</td>\n      <td>59</td>\n      <td>4307</td>\n    </tr>\n    <tr>\n      <th>CLASSIFICATION</th>\n      <td>74</td>\n      <td>57</td>\n      <td>4218</td>\n    </tr>\n    <tr>\n      <th>MATHEMATICS</th>\n      <td>76</td>\n      <td>57</td>\n      <td>4332</td>\n    </tr>\n    <tr>\n      <th>VALUABLE</th>\n      <td>61</td>\n      <td>56</td>\n      <td>3416</td>\n    </tr>\n    <tr>\n      <th>SPARK</th>\n      <td>76</td>\n      <td>55</td>\n      <td>4180</td>\n    </tr>\n    <tr>\n      <th>EXTREMELY</th>\n      <td>61</td>\n      <td>55</td>\n      <td>3355</td>\n    </tr>\n    <tr>\n      <th>IMPLEMENT</th>\n      <td>62</td>\n      <td>54</td>\n      <td>3348</td>\n    </tr>\n    <tr>\n      <th>ANALYSTS</th>\n      <td>69</td>\n      <td>54</td>\n      <td>3726</td>\n    </tr>\n    <tr>\n      <th>CLOUD</th>\n      <td>76</td>\n      <td>54</td>\n      <td>4104</td>\n    </tr>\n    <tr>\n      <th>INSIGHT</th>\n      <td>56</td>\n      <td>54</td>\n      <td>3024</td>\n    </tr>\n    <tr>\n      <th>REGRESSION</th>\n      <td>76</td>\n      <td>53</td>\n      <td>4028</td>\n    </tr>\n    <tr>\n      <th>EFFICIENT</th>\n      <td>65</td>\n      <td>53</td>\n      <td>3445</td>\n    </tr>\n    <tr>\n      <th>ARTIFICIAL</th>\n      <td>57</td>\n      <td>52</td>\n      <td>2964</td>\n    </tr>\n    <tr>\n      <th>MATHEMATICAL</th>\n      <td>62</td>\n      <td>51</td>\n      <td>3162</td>\n    </tr>\n    <tr>\n      <th>EXPLAIN</th>\n      <td>54</td>\n      <td>50</td>\n      <td>2700</td>\n    </tr>\n    <tr>\n      <th>APPROACHES</th>\n      <td>53</td>\n      <td>50</td>\n      <td>2650</td>\n    </tr>\n    <tr>\n      <th>TYPICALLY</th>\n      <td>66</td>\n      <td>50</td>\n      <td>3300</td>\n    </tr>\n    <tr>\n      <th>IMAGINE</th>\n      <td>54</td>\n      <td>48</td>\n      <td>2592</td>\n    </tr>\n    <tr>\n      <th>GENERATE</th>\n      <td>58</td>\n      <td>48</td>\n      <td>2784</td>\n    </tr>\n    <tr>\n      <th>AUTOMATED</th>\n      <td>59</td>\n      <td>47</td>\n      <td>2773</td>\n    </tr>\n    <tr>\n      <th>PIPELINE</th>\n      <td>61</td>\n      <td>46</td>\n      <td>2806</td>\n    </tr>\n  </tbody>\n</table>\n</div>"
     },
     "metadata": {},
     "execution_count": 18
    }
   ],
   "source": [
    "final.sort_values(by=['title'], ascending=False).head(50)"
   ]
  },
  {
   "cell_type": "code",
   "execution_count": null,
   "metadata": {},
   "outputs": [],
   "source": []
  }
 ]
}